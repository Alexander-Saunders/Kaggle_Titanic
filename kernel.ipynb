{
  "cells": [
    {
      "metadata": {
        "_uuid": "66784519db606f30795e2dbe66b6f50ea3891327",
        "_cell_guid": "bc0a0f01-706e-431a-a268-76891fbae03a",
        "trusted": true,
        "collapsed": true
      },
      "cell_type": "code",
      "source": "# This Python 3 environment comes with many helpful analytics libraries installed\n# It is defined by the kaggle/python docker image: https://github.com/kaggle/docker-python\n# For example, here's several helpful packages to load in \n\nimport numpy as np # linear algebra\nimport pandas as pd # data processing, CSV file I/O (e.g. pd.read_csv)\nfrom sklearn import tree\nfrom sklearn.impute import SimpleImputer\n\n# Input data files are available in the \"../input/\" directory.\n# For example, running this (by clicking run or pressing Shift+Enter) will list the files in the input directory\n\nfrom subprocess import check_output\nprint(check_output([\"ls\", \"../input\"]).decode(\"utf8\"))\n\n# Any results you write to the current directory are saved as output.",
      "execution_count": null,
      "outputs": []
    },
    {
      "metadata": {
        "trusted": true,
        "_uuid": "b4db22a0818c1971f8e85d59e2e7fca548fb55e8",
        "collapsed": true
      },
      "cell_type": "code",
      "source": "df_test = pd.read_csv(\"../input/test.csv\")\ndf_train = pd.read_csv(\"../input/train.csv\")\ndf_train.head()",
      "execution_count": null,
      "outputs": []
    },
    {
      "metadata": {
        "trusted": true,
        "_uuid": "560e33f3ba16105b03d87a878e15888107859b14",
        "collapsed": true
      },
      "cell_type": "code",
      "source": "#Converts Embarked location to numbers to enable correlation calcluation\ndf_test[\"Embarked\"] = df_test[\"Embarked\"].replace(\"C\",1)\ndf_test[\"Embarked\"] = df_test[\"Embarked\"].replace(\"Q\",2)\ndf_test[\"Embarked\"] = df_test[\"Embarked\"].replace(\"S\",3)\n\ndf_train[\"Embarked\"] = df_train[\"Embarked\"].replace(\"C\",1)\ndf_train[\"Embarked\"] = df_train[\"Embarked\"].replace(\"Q\",2)\ndf_train[\"Embarked\"] = df_train[\"Embarked\"].replace(\"S\",3)\ndf_train.head()",
      "execution_count": null,
      "outputs": []
    },
    {
      "metadata": {
        "trusted": true,
        "_uuid": "8acfdfe79e8fb42aaccd81c2f194604124b8d783",
        "collapsed": true
      },
      "cell_type": "code",
      "source": "df_test[\"Sex\"] = df_test[\"Sex\"].replace(\"male\",1)\ndf_test[\"Sex\"] = df_test[\"Sex\"].replace(\"female\",0)\n\ndf_train[\"Sex\"] = df_train[\"Sex\"].replace(\"male\",1)\ndf_train[\"Sex\"] = df_train[\"Sex\"].replace(\"female\",0)\ndf_train.head()",
      "execution_count": null,
      "outputs": []
    },
    {
      "metadata": {
        "trusted": true,
        "_uuid": "e4028e12cba2e9b954ca40582e12443c7d08b5e5",
        "collapsed": true
      },
      "cell_type": "code",
      "source": "df_train_num = df_train.iloc[:,1:3]\ndf_train_num[\"Sex\"] = df_train[\"Sex\"] \ndf_train_num[\"SibSp\"] = df_train[\"SibSp\"] \ndf_train_num[\"Parch\"] = df_train[\"Parch\"] \ndf_train_num[\"Fare\"] = df_train[\"Fare\"] \ndf_train_num[\"Embarked\"] = df_train[\"Embarked\"] \ndf_train_num =df_train_num.reindex([\"Pclass\",\"Sex\",\"SibSp\",\"Parch\",\"Fare\",\"Embarked\",\"Survived\"], axis=1)\ndf_train_num.head()",
      "execution_count": null,
      "outputs": []
    },
    {
      "metadata": {
        "trusted": true,
        "_uuid": "1c1d399e919677760186f0c5a382184102c16d06",
        "collapsed": true
      },
      "cell_type": "code",
      "source": "df_tests = df_test.iloc[:,0:2]\ndf_tests[\"Pclass\"] = df_test[\"Pclass\"]\ndf_tests[\"Sex\"] = df_test[\"Sex\"]\ndf_tests[\"SibSp\"] = df_test[\"SibSp\"]\ndf_tests[\"Parch\"] = df_test[\"Parch\"]\ndf_tests[\"Fare\"] = df_test[\"Fare\"]\ndf_tests[\"Embarked\"] = df_test[\"Embarked\"]\ndf_tests = df_tests.drop([\"PassengerId\"], axis=1)\n\ndf_tests.head()",
      "execution_count": null,
      "outputs": []
    },
    {
      "metadata": {
        "trusted": true,
        "_uuid": "0b8af8ba9217125a5542f01796e84b96ffad8488",
        "collapsed": true
      },
      "cell_type": "code",
      "source": "X = df_train_num.drop([\"Survived\"], axis=1)\nY = df_train[\"Survived\"]",
      "execution_count": null,
      "outputs": []
    },
    {
      "metadata": {
        "trusted": true,
        "_uuid": "15300537e5f7367c0828dbdb6bcd5e3c9f4c3c0a",
        "collapsed": true
      },
      "cell_type": "code",
      "source": "my_imputer = SimpleImputer()\nX = my_imputer.fit_transform(X)",
      "execution_count": null,
      "outputs": []
    },
    {
      "metadata": {
        "trusted": true,
        "collapsed": true,
        "_uuid": "215a38ab9e7c8552c3b5355700da7979e44dfa57"
      },
      "cell_type": "code",
      "source": "clf = tree.DecisionTreeClassifier()\nclf = clf.fit(X, Y)",
      "execution_count": null,
      "outputs": []
    },
    {
      "metadata": {
        "trusted": true,
        "_uuid": "49cbed257110571b5e17724f96e50c1f1b6f377b",
        "collapsed": true
      },
      "cell_type": "code",
      "source": "my_imputer_test = SimpleImputer()\ndf_tests = my_imputer.fit_transform(df_tests)\ndf_submission = df_test.iloc[:,:]",
      "execution_count": null,
      "outputs": []
    },
    {
      "metadata": {
        "trusted": true,
        "_uuid": "c9ef5f670c6b0f2dd15e3a1fbd2551e64c0b1302",
        "scrolled": false,
        "collapsed": true
      },
      "cell_type": "code",
      "source": "df_submission[\"Survived\"] = clf.predict(df_tests)",
      "execution_count": null,
      "outputs": []
    },
    {
      "metadata": {
        "trusted": true,
        "_uuid": "a5434c363d1c69762aba069b8be71c496437ca07",
        "collapsed": true
      },
      "cell_type": "code",
      "source": "df_submission = df_submission.drop([\"Pclass\"], axis=1)\ndf_submission = df_submission.drop([\"Name\"], axis=1)\ndf_submission = df_submission.drop([\"Sex\"], axis=1)\ndf_submission = df_submission.drop([\"Age\"], axis=1)\ndf_submission = df_submission.drop([\"SibSp\"], axis=1)\ndf_submission = df_submission.drop([\"Parch\"], axis=1)\ndf_submission = df_submission.drop([\"Ticket\"], axis=1)\ndf_submission = df_submission.drop([\"Fare\"], axis=1)\ndf_submission = df_submission.drop([\"Cabin\"], axis=1)\ndf_submission = df_submission.drop([\"Embarked\"], axis=1)\ndf_submission.head()",
      "execution_count": null,
      "outputs": []
    },
    {
      "metadata": {
        "trusted": true,
        "_uuid": "f0b598b1d5a605a16aa32d0500762cf574f9e667",
        "collapsed": true
      },
      "cell_type": "code",
      "source": "df_submission.to_csv(\"AS_Submission\", index=False)",
      "execution_count": null,
      "outputs": []
    },
    {
      "metadata": {
        "trusted": true,
        "scrolled": false,
        "_uuid": "fb704c4aaf51f5f219fbb4d6004cf390de49d85f",
        "collapsed": true
      },
      "cell_type": "code",
      "source": "",
      "execution_count": null,
      "outputs": []
    },
    {
      "metadata": {
        "trusted": true,
        "_uuid": "cbf3dcd1d329cecb69db912c4cfcb877dc1d1da0",
        "collapsed": true
      },
      "cell_type": "code",
      "source": "",
      "execution_count": null,
      "outputs": []
    },
    {
      "metadata": {
        "trusted": true,
        "_uuid": "d6273f66dd67075521550d32b09066be91c99e48",
        "collapsed": true
      },
      "cell_type": "code",
      "source": "",
      "execution_count": null,
      "outputs": []
    },
    {
      "metadata": {
        "trusted": true,
        "collapsed": true,
        "_uuid": "4078d831b316974e3fae5b67eb5134f8a9b34f55"
      },
      "cell_type": "code",
      "source": "",
      "execution_count": null,
      "outputs": []
    }
  ],
  "metadata": {
    "kernelspec": {
      "display_name": "Python 3",
      "language": "python",
      "name": "python3"
    },
    "language_info": {
      "name": "python",
      "version": "3.6.6",
      "mimetype": "text/x-python",
      "codemirror_mode": {
        "name": "ipython",
        "version": 3
      },
      "pygments_lexer": "ipython3",
      "nbconvert_exporter": "python",
      "file_extension": ".py"
    }
  },
  "nbformat": 4,
  "nbformat_minor": 1
}